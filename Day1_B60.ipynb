{
 "cells": [
  {
   "cell_type": "code",
   "execution_count": 1,
   "id": "056d2523",
   "metadata": {},
   "outputs": [
    {
     "name": "stdout",
     "output_type": "stream",
     "text": [
      "Hello all welcome to python programming world\n"
     ]
    }
   ],
   "source": [
    "print(\"Hello all welcome to python programming world\")"
   ]
  },
  {
   "cell_type": "code",
   "execution_count": null,
   "id": "2a657163",
   "metadata": {},
   "outputs": [],
   "source": [
    "# for executing the cell ---> shift + enter "
   ]
  }
 ],
 "metadata": {
  "kernelspec": {
   "display_name": "Python 3",
   "language": "python",
   "name": "python3"
  },
  "language_info": {
   "codemirror_mode": {
    "name": "ipython",
    "version": 3
   },
   "file_extension": ".py",
   "mimetype": "text/x-python",
   "name": "python",
   "nbconvert_exporter": "python",
   "pygments_lexer": "ipython3",
   "version": "3.8.8"
  }
 },
 "nbformat": 4,
 "nbformat_minor": 5
}
